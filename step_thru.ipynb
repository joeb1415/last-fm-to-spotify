{
 "cells": [
  {
   "cell_type": "code",
   "execution_count": 5,
   "metadata": {},
   "outputs": [
    {
     "data": {
      "text/plain": [
       "['config_private.ini']"
      ]
     },
     "execution_count": 5,
     "metadata": {},
     "output_type": "execute_result"
    }
   ],
   "source": [
    "from configparser import ConfigParser\n",
    "\n",
    "config = ConfigParser()\n",
    "config.read('config_private.ini')"
   ]
  },
  {
   "cell_type": "code",
   "execution_count": 7,
   "metadata": {},
   "outputs": [],
   "source": [
    "from spotipy import Spotify, SpotifyOAuth, CacheFileHandler\n",
    "\n",
    "\n",
    "scope = [\"playlist-modify-public\", \"user-read-private\"]\n",
    "\n",
    "cahce_handler = CacheFileHandler(username=config[\"SPOTIFY\"][\"username\"])\n",
    "auth_manager = SpotifyOAuth(\n",
    "    client_id=config[\"SPOTIFY\"][\"client_id\"], \n",
    "    client_secret=config[\"SPOTIFY\"][\"client_secret\"], \n",
    "    redirect_uri=config[\"SPOTIFY\"][\"redirect_uri\"], \n",
    "    scope=scope, \n",
    "    cache_handler=cahce_handler,\n",
    ")\n",
    "spotify = Spotify(auth_manager=auth_manager)\n",
    "\n",
    "token_info = auth_manager.cache_handler.get_cached_token()\n",
    "if token_info and auth_manager.is_token_expired(token_info=token_info):\n",
    "    auth_manager.refresh_access_token(refresh_token=token_info[\"refresh_token\"])"
   ]
  },
  {
   "cell_type": "code",
   "execution_count": 8,
   "metadata": {},
   "outputs": [],
   "source": [
    "# Helper methods\n",
    "\n",
    "import re\n",
    "\n",
    "from urllib.parse import quote_plus\n",
    "\n",
    "def strip_non_alphanumeric(s):\n",
    "    pattern = re.compile('[^a-zA-Z0-9_ ]+')\n",
    "    return pattern.sub('', s)\n",
    "\n",
    "\n",
    "def format_track_query(artist_name, track_name):\n",
    "    search_term = strip_non_alphanumeric(s=f\"{artist_name} {track_name}\")\n",
    "    return search_term\n",
    "\n",
    "\n",
    "def get_artist_id(artist_name):\n",
    "    query = quote_plus(strip_non_alphanumeric(artist_name))\n",
    "    result = spotify.search(q=query, market=\"US\", type=\"artist\")  # limit 10 by default should be enough\n",
    "\n",
    "    for item in result[\"artists\"][\"items\"]:\n",
    "        item_name = item[\"name\"].lower()\n",
    "\n",
    "        if item_name == artist_name:\n",
    "            return item[\"id\"]\n",
    "\n",
    "\n",
    "def get_albums(artist_id):\n",
    "    offset = 0\n",
    "    limit = 50\n",
    "    \n",
    "    albums = []\n",
    "    next = True\n",
    "    while next:\n",
    "        response = spotify.artist_albums(artist_id=artist_id, country=\"US\", limit=limit, offset=offset)\n",
    "        next = response[\"next\"]\n",
    "        offset += limit\n",
    "        albums.extend(response[\"items\"])\n",
    "\n",
    "    return albums\n",
    "\n",
    "\n",
    "def get_album_tracks(album_id):\n",
    "    offset = 0\n",
    "    limit = 50\n",
    "    \n",
    "    tracks = []\n",
    "    next = True\n",
    "    while next:\n",
    "        response = spotify.album_tracks(album_id=album_id, market=\"US\", limit=limit, offset=offset)\n",
    "        next = response[\"next\"]\n",
    "        offset += limit\n",
    "        tracks.extend(response[\"items\"])\n",
    "\n",
    "    return tracks\n",
    "\n",
    "\n",
    "def get_track_id(artist_name, track_name):\n",
    "    query = quote_plus(format_track_query(artist_name, track_name))\n",
    "    result = spotify.search(q=query, market=\"US\", type=\"track\")\n",
    "\n",
    "    for item in result[\"tracks\"][\"items\"]:\n",
    "        item_name = item[\"name\"].lower()\n",
    "        item_artist = item[\"artists\"][0][\"name\"].lower()\n",
    "        if item_name == track_name and item_artist == artist_name:\n",
    "            return item[\"id\"]\n",
    "\n",
    "    # Some tracks aren't searchable :( Look in artist's albums instead. \n",
    "    # Some single-track albums have the track\n",
    "\n",
    "    artist_id = get_artist_id(artist_name)\n",
    "\n",
    "    if not artist_id:\n",
    "        print(f\"Artist not found: {artist_name}\")\n",
    "        return\n",
    "\n",
    "    albums = get_albums(artist_id=artist_id)\n",
    "\n",
    "    for album in albums:\n",
    "        album_name = album[\"name\"].lower()\n",
    "        if album_name == track_name:\n",
    "            album_tracks = get_album_tracks(album_id=album[\"id\"])\n",
    "            for album_track in album_tracks:\n",
    "                album_track_name = album_track[\"name\"].lower()\n",
    "                if album_track_name == track_name:\n",
    "                    return album_track[\"id\"]\n",
    "    \n",
    "    print(f\"Track `{track_name}` not found for artist `{artist_name}`\")\n",
    "    return\n",
    "\n",
    "# normalize not used yet\n",
    "def normalize_search(search_str):\n",
    "    words = search_str.lower().split(\" \")\n",
    "    remove_words = [\"the\", \"a\", \"an\"]\n",
    "    filtered_words = list(filter(lambda x: x not in remove_words, words))\n",
    "    normalized_search = \" \".join(filtered_words)\n",
    "\n",
    "    return normalized_search\n"
   ]
  },
  {
   "cell_type": "code",
   "execution_count": 13,
   "metadata": {},
   "outputs": [],
   "source": [
    "import pendulum\n",
    "from time import mktime\n",
    "\n",
    "start_datetime = pendulum.datetime(year=2023, month=2, day=4, hour=12, tz=\"US/Pacific\")\n",
    "end_datetime = pendulum.datetime(year=2023, month=2, day=4, hour=14, tz=\"US/Pacific\")\n",
    "\n",
    "start_datetime_utc_str = start_datetime.in_timezone(tz=\"UTC\").to_datetime_string()\n",
    "end_datetime_utc_str = end_datetime.in_timezone(tz=\"UTC\").to_datetime_string()\n"
   ]
  },
  {
   "attachments": {},
   "cell_type": "markdown",
   "metadata": {},
   "source": [
    "# Either File History or LastFM below"
   ]
  },
  {
   "cell_type": "code",
   "execution_count": null,
   "metadata": {},
   "outputs": [],
   "source": [
    "# File History\n",
    "\n",
    "import json\n",
    "from os import listdir\n",
    "from pathlib import Path\n",
    "history_path = Path.home().joinpath(\"Downloads\").joinpath(\"MyData\")\n",
    "history_files = sorted([f for f in listdir(history_path) if f.startswith(\"StreamingHistory\")])\n",
    "\n",
    "history_all = []\n",
    "for filename in history_files:\n",
    "    with open(history_path.joinpath(filename), encoding='utf-8') as f:  # some title contain unicode chars\n",
    "        history_page = json.load(f)\n",
    "        history_all.extend(history_page)\n",
    "\n",
    "search_tracks = []\n",
    "for history_obj in history_all:\n",
    "    if (\n",
    "        history_obj[\"endTime\"] < start_datetime_utc_str or \n",
    "        history_obj[\"endTime\"] > end_datetime_utc_str or \n",
    "        history_obj[\"msPlayed\"] < 60000\n",
    "    ):\n",
    "        continue\n",
    "    search_track = {\n",
    "        \"artist_name\": history_obj[\"artistName\"].lower(),\n",
    "        \"track_name\": history_obj[\"trackName\"].lower(),\n",
    "    }\n",
    "    search_tracks.append(search_track)"
   ]
  },
  {
   "cell_type": "code",
   "execution_count": 14,
   "metadata": {},
   "outputs": [],
   "source": [
    "# LastFM\n",
    "\n",
    "from time import mktime\n",
    "\n",
    "from pylast import md5, LastFMNetwork, User\n",
    "\n",
    "\n",
    "api_key = config[\"LAST_FM\"][\"api_key\"]\n",
    "api_secret = config[\"LAST_FM\"][\"api_secret\"]\n",
    "username = config[\"LAST_FM\"][\"username\"]\n",
    "password_hash = md5(config[\"LAST_FM\"][\"password\"])\n",
    "\n",
    "last_fm = LastFMNetwork(\n",
    "    api_key=api_key,\n",
    "    api_secret=api_secret,\n",
    "    username=username,\n",
    "    password_hash=password_hash,\n",
    ")\n",
    "\n",
    "begin_seconds = int(start_datetime.format(fmt=\"X\"))\n",
    "end_seconds = int(end_datetime.format(fmt=\"X\"))\n",
    "\n",
    "user = User(user_name=username, network=last_fm)\n",
    "search_tracks = user.get_recent_tracks(limit=999, time_from=begin_seconds, time_to=end_seconds)\n",
    "search_tracks.reverse()"
   ]
  },
  {
   "attachments": {},
   "cell_type": "markdown",
   "metadata": {},
   "source": [
    "# Get Tracks"
   ]
  },
  {
   "cell_type": "code",
   "execution_count": 15,
   "metadata": {},
   "outputs": [
    {
     "ename": "TypeError",
     "evalue": "tuple indices must be integers or slices, not str",
     "output_type": "error",
     "traceback": [
      "\u001b[0;31m---------------------------------------------------------------------------\u001b[0m",
      "\u001b[0;31mTypeError\u001b[0m                                 Traceback (most recent call last)",
      "Cell \u001b[0;32mIn[15], line 5\u001b[0m\n\u001b[1;32m      3\u001b[0m search_count \u001b[39m=\u001b[39m \u001b[39m0\u001b[39m\n\u001b[1;32m      4\u001b[0m \u001b[39mfor\u001b[39;00m search_track \u001b[39min\u001b[39;00m search_tracks:\n\u001b[0;32m----> 5\u001b[0m     track_id \u001b[39m=\u001b[39m get_track_id(search_track[\u001b[39m\"\u001b[39;49m\u001b[39martist_name\u001b[39;49m\u001b[39m\"\u001b[39;49m], search_track[\u001b[39m\"\u001b[39m\u001b[39mtrack_name\u001b[39m\u001b[39m\"\u001b[39m])\n\u001b[1;32m      6\u001b[0m     search_count \u001b[39m+\u001b[39m\u001b[39m=\u001b[39m \u001b[39m1\u001b[39m\n\u001b[1;32m      7\u001b[0m     \u001b[39mif\u001b[39;00m track_id:\n",
      "\u001b[0;31mTypeError\u001b[0m: tuple indices must be integers or slices, not str"
     ]
    }
   ],
   "source": [
    "track_ids = []\n",
    "\n",
    "search_count = 0\n",
    "for search_track in search_tracks:\n",
    "    track_id = get_track_id(search_track[\"artist_name\"], search_track[\"track_name\"])\n",
    "    search_count += 1\n",
    "    if track_id:\n",
    "        track_ids.append(track_id)\n",
    "\n",
    "print(f\"search_count={search_count}, found_count={len(track_ids)}\")"
   ]
  },
  {
   "cell_type": "code",
   "execution_count": null,
   "metadata": {},
   "outputs": [],
   "source": [
    "track_ids = [t for t in track_ids if t]\n",
    "def get_chunks(l, n):\n",
    "    for i in range(0, len(l), n):\n",
    "        yield l[i:i + n]\n",
    "\n",
    "playlist =  spotify.user_playlist_create(user=config[\"SPOTIFY\"][\"username\"], name=\"Critical Chip 2022\")\n",
    "\n",
    "playlist_add_items_max = 100\n",
    "for chunk in get_chunks(l=track_ids, n=playlist_add_items_max):\n",
    "    add_tracks_response = spotify.playlist_add_items(\n",
    "        playlist_id=playlist[\"id\"],\n",
    "        items=chunk,\n",
    "    )"
   ]
  }
 ],
 "metadata": {
  "kernelspec": {
   "display_name": "last-fm-to-spotify",
   "language": "python",
   "name": "python3"
  },
  "language_info": {
   "codemirror_mode": {
    "name": "ipython",
    "version": 3
   },
   "file_extension": ".py",
   "mimetype": "text/x-python",
   "name": "python",
   "nbconvert_exporter": "python",
   "pygments_lexer": "ipython3",
   "version": "3.11.1"
  },
  "orig_nbformat": 4,
  "vscode": {
   "interpreter": {
    "hash": "3616c0d8e596235c64eb974875ca91de6b85b70cb8c620b9d77b9d9cb2d53202"
   }
  }
 },
 "nbformat": 4,
 "nbformat_minor": 2
}
