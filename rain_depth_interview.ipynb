{
 "cells": [
  {
   "cell_type": "code",
   "execution_count": 8,
   "metadata": {},
   "outputs": [
    {
     "name": "stdout",
     "output_type": "stream",
     "text": [
      "2\n"
     ]
    }
   ],
   "source": [
    "input_heights = [10, 2, 1, 2, 0, 3, 10]\n",
    "\n",
    "# all maps will have left walls of increasing height until a peak, \n",
    "# then the peak acts as left wall for the rest of the map to the right.\n",
    "# Same from the right, with right walls rising until a peak then that acts as right wall to the rest of the map\n",
    "\n",
    "# iterate through from left, if we ever step down, that establishes a left wall. \n",
    "# until we get higher than previous left wall, don't establish a new left wall, \n",
    "# only if we step up to a new max and then down again\n",
    "left_walls = []\n",
    "rolling_sum = [0]\n",
    "for index, value in enumerate(input_heights[:-1]):  # ok to skip last index, won't be a left wall\n",
    "    rolling_sum.append(rolling_sum[-1] + value)\n",
    "    if (\n",
    "        input_heights[index] > input_heights[index+1] and (\n",
    "            left_walls == [] or\n",
    "            input_heights[index] > left_walls[-1]\n",
    "        )\n",
    "    ):\n",
    "        left_walls.append(index)\n",
    "rolling_sum.append(rolling_sum[-1] + input_heights[-1])  # add final wall\n",
    "rolling_sum.pop(0)  # remove fake first wall\n",
    "\n",
    "right_walls = []  # this is a list of input indexes from right to left\n",
    "for index in range(len(input_heights) - 1, 0, -1):  # ok to skip last index, that won't be a right wall\n",
    "    value = input_heights[index]\n",
    "    if (\n",
    "        input_heights[index] > input_heights[index-1] and (\n",
    "            right_walls == [] or\n",
    "            input_heights[index] > right_walls[-1]\n",
    "        )\n",
    "    ):\n",
    "        right_walls.append(index)\n",
    "\n",
    "# if not left_walls or not right_walls:\n",
    "#     return 0\n",
    "\n",
    "# find depth of middle trough between left peak and right peak\n",
    "# in most cases the peak is a single bar, so this is 0.\n",
    "# this is only non-zero if there are separate matching flat peaks from left and right\n",
    "\n",
    "total = 0\n",
    "for left_wall_index, input_index in enumerate(left_walls):\n",
    "    next_wall_index = (\n",
    "        left_walls[left_wall_index + 1] \n",
    "        if left_wall_index < (len(left_walls) - 1) \n",
    "        else right_walls[-1]\n",
    "    )\n",
    "    width = next_wall_index - input_index - 1  # 1 less than span to next index\n",
    "    depth = input_heights[input_index]  # the shorter wall\n",
    "    existing_area = (rolling_sum[next_wall_index - 1] - rolling_sum[input_index])  # subtract existing walls from full fill\n",
    "    area = width * depth - existing_area\n",
    "    total += area\n",
    "\n",
    "for right_wall_index, input_index in enumerate(right_walls[:-1]):  # skip final peak - already counted in left wall sum\n",
    "    next_wall_index = right_walls[right_wall_index + 1]\n",
    "    width = input_index - next_wall_index - 1\n",
    "    depth = input_heights[input_index]\n",
    "    existing_area = (rolling_sum[input_index - 1] - rolling_sum[next_wall_index])\n",
    "    area = width * depth - existing_area\n",
    "    total += area\n",
    "\n",
    "print(total)"
   ]
  },
  {
   "cell_type": "code",
   "execution_count": 5,
   "metadata": {},
   "outputs": [
    {
     "name": "stdout",
     "output_type": "stream",
     "text": [
      "0: 11\n",
      "1: 12\n",
      "2: 13\n"
     ]
    },
    {
     "data": {
      "text/plain": [
       "[None, None, None]"
      ]
     },
     "execution_count": 5,
     "metadata": {},
     "output_type": "execute_result"
    }
   ],
   "source": [
    "[print(f\"{index}: {value}\") for index, value in enumerate([11,12,13])]"
   ]
  }
 ],
 "metadata": {
  "kernelspec": {
   "display_name": "Python 3.6.8 64-bit ('last-fm-to-spotify')",
   "language": "python",
   "name": "python3"
  },
  "language_info": {
   "codemirror_mode": {
    "name": "ipython",
    "version": 3
   },
   "file_extension": ".py",
   "mimetype": "text/x-python",
   "name": "python",
   "nbconvert_exporter": "python",
   "pygments_lexer": "ipython3",
   "version": "3.6.8"
  },
  "orig_nbformat": 4,
  "vscode": {
   "interpreter": {
    "hash": "9c373eae70841d309e1215553926bbbcd65e822b18ce7d27c606f76145c7e9d5"
   }
  }
 },
 "nbformat": 4,
 "nbformat_minor": 2
}
