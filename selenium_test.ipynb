{
 "cells": [
  {
   "cell_type": "code",
   "execution_count": 1,
   "metadata": {},
   "outputs": [],
   "source": [
    "from __future__ import annotations\n",
    "from selenium import webdriver\n",
    "from selenium.webdriver.common.by import By\n",
    "\n",
    "def driversetup():\n",
    "    options = webdriver.ChromeOptions()\n",
    "    #run Selenium in headless mode\n",
    "    options.add_argument('--headless')\n",
    "    options.add_argument('--no-sandbox')\n",
    "    #overcome limited resource problems\n",
    "    options.add_argument('--disable-dev-shm-usage')\n",
    "    options.add_argument(\"lang=en\")\n",
    "    #open Browser in maximized mode\n",
    "    options.add_argument(\"start-maximized\")\n",
    "    #disable infobars\n",
    "    options.add_argument(\"disable-infobars\")\n",
    "    #disable extension\n",
    "    options.add_argument(\"--disable-extensions\")\n",
    "    options.add_argument(\"--incognito\")\n",
    "    options.add_argument(\"--disable-blink-features=AutomationControlled\")\n",
    "    \n",
    "    driver = webdriver.Chrome(options=options)\n",
    "\n",
    "    # driver.execute_script(\"Object.defineProperty(navigator, 'webdriver', {get: () => undefined});\")\n",
    "\n",
    "    return driver"
   ]
  },
  {
   "cell_type": "code",
   "execution_count": 159,
   "metadata": {},
   "outputs": [],
   "source": [
    "import urllib\n",
    "from configparser import ConfigParser\n",
    "\n",
    "config: ConfigParser = ConfigParser()\n",
    "config.read('config_private.ini')\n",
    "\n",
    "client_id = \"1fd1295e25e841f39b73d0fab94962bb\"\n",
    "client_secret = \"b1f1cd3dcf9d4992bd022e0029250b96\"\n",
    "redirect_uri = \"http://localhost:8888/callback\"\n",
    "\n",
    "scope = [\"playlist-modify-public\", \"user-read-private\"]\n",
    "\n",
    "params = {\n",
    "    \"response_type\": \"code\",\n",
    "    \"client_id\": client_id,\n",
    "    \"scope\": scope,\n",
    "    \"redirect_uri\": redirect_uri,\n",
    "    \"state\": \"abcdefghijklmnop\"  # some random 16 digit string? - needed?\n",
    "}\n",
    "auth_params = urllib.parse.urlencode(query=params)\n",
    "auth_url = \"https://accounts.spotify.com/authorize\""
   ]
  },
  {
   "cell_type": "code",
   "execution_count": 3,
   "metadata": {},
   "outputs": [],
   "source": [
    "options = webdriver.ChromeOptions()\n",
    "options.add_argument(\"--incognito\")\n",
    "driver = webdriver.Chrome(options=options)\n",
    "\n",
    "driver.get(f\"{auth_url}?{auth_params}\")"
   ]
  },
  {
   "cell_type": "code",
   "execution_count": 4,
   "metadata": {},
   "outputs": [],
   "source": [
    "driver.find_element(By.ID, \"login-username\").send_keys(config[\"SPOTIFY\"][\"username\"])\n",
    "driver.find_element(By.ID, \"login-password\").send_keys(config[\"SPOTIFY\"][\"password\"])\n",
    "\n",
    "driver.find_element(By.ID, \"login-button\").click()"
   ]
  },
  {
   "cell_type": "code",
   "execution_count": 5,
   "metadata": {},
   "outputs": [
    {
     "data": {
      "text/plain": [
       "ParseResult(scheme='https', netloc='accounts.spotify.com', path='/en/authorize', params='', query='scope=playlist-modify-public&response_type=code&redirect_uri=http%3A%2F%2Flocalhost%3A8888%2Fcallback&state=abcdefghijklmnop&client_id=1fd1295e25e841f39b73d0fab94962bb', fragment='')"
      ]
     },
     "execution_count": 5,
     "metadata": {},
     "output_type": "execute_result"
    }
   ],
   "source": [
    "parsed_url = urllib.parse.urlparse(driver.current_url)\n",
    "parsed_url"
   ]
  },
  {
   "cell_type": "code",
   "execution_count": null,
   "metadata": {},
   "outputs": [],
   "source": [
    "# If we haven't already authorized, hit confirm\n",
    "if parsed_url.netloc == \"accounts.spotify.com\":\n",
    "    driver.find_element(By.XPATH, \"//button[@data-testid='auth-accept']\").click()\n",
    "elif parsed_url.netloc == urllib.parse.urlparse(redirect_uri).netloc:\n",
    "    pass  # we've already authorized\n",
    "else:\n",
    "    raise Exception(\"Unknown redirect\")\n",
    "    \n",
    "parsed_url = urllib.parse.urlparse(driver.current_url)\n",
    "code = urllib.parse.parse_qs(parsed_url.query)[\"code\"]\n",
    "\n",
    "parsed_url"
   ]
  },
  {
   "cell_type": "code",
   "execution_count": 8,
   "metadata": {},
   "outputs": [
    {
     "data": {
      "text/plain": [
       "ParseResult(scheme='http', netloc='localhost:8888', path='/callback', params='', query='code=AQBPq2JVdcS8Bhw6j0RX9CS6cSCnuQjuuubAPpOJ3b47Bw1ovsemHL8sITw-kykNM19wbNr0OnpUpx3e4HdQbq4qzsC42igbr-L-_-8dP7qJzA5Y-RczkXUkHQk87r5QpeNFs72D745d44zGIXvz4GTEoYPvfaz78fjwI0dbbvDKtUCIzyic7R5EA0UCtCNniRctnEHbxKGb6g&state=abcdefghijklmnop', fragment='')"
      ]
     },
     "execution_count": 8,
     "metadata": {},
     "output_type": "execute_result"
    }
   ],
   "source": [
    "\n",
    "parsed_url = urllib.parse.urlparse(driver.current_url)\n",
    "code = urllib.parse.parse_qs(parsed_url.query)[\"code\"]\n",
    "\n",
    "parsed_url"
   ]
  },
  {
   "cell_type": "code",
   "execution_count": 13,
   "metadata": {},
   "outputs": [],
   "source": [
    "import requests\n",
    "\n",
    "token_url = \"https://accounts.spotify.com/api/token\"\n",
    "token_data = {\n",
    "  \"code\": code,\n",
    "  \"redirect_uri\": redirect_uri,\n",
    "  \"grant_type\": \"authorization_code\",\n",
    "}\n",
    "headers = {\n",
    "  # \"Authorization\": \"Basic \" + (new Buffer(client_id + ':' + client_secret).toString('base64')),\n",
    "}\n",
    "\n",
    "r = requests.post(\n",
    "    url=token_url, \n",
    "    data=token_data,\n",
    "    auth=requests.auth.HTTPBasicAuth('client_id', 'client_secret'),\n",
    ")"
   ]
  },
  {
   "cell_type": "code",
   "execution_count": 160,
   "metadata": {},
   "outputs": [],
   "source": [
    "from spotipy import Spotify, SpotifyOAuth, CacheFileHandler\n",
    "\n",
    "handler = CacheFileHandler(username=config[\"SPOTIFY\"][\"username\"])\n",
    "auth_manager = SpotifyOAuth(client_id, client_secret, redirect_uri, scope=scope, cache_handler=handler)\n",
    "\n",
    "spotify = Spotify(auth_manager=auth_manager)"
   ]
  },
  {
   "cell_type": "code",
   "execution_count": 196,
   "metadata": {},
   "outputs": [],
   "source": [
    "token_info = auth_manager.cache_handler.get_cached_token()\n",
    "if auth_manager.is_token_expired(token_info=token_info):\n",
    "    auth_manager.refresh_access_token(refresh_token=token_info[\"refresh_token\"])"
   ]
  },
  {
   "cell_type": "code",
   "execution_count": 37,
   "metadata": {},
   "outputs": [],
   "source": [
    "import json\n",
    "from os import listdir\n",
    "from pathlib import Path\n",
    "history_path = Path.home().joinpath(\"Downloads\").joinpath(\"MyData\")\n",
    "history_files = sorted([f for f in listdir(history_path) if f.startswith(\"StreamingHistory\")])\n",
    "\n",
    "history_all = []\n",
    "for filename in history_files:\n",
    "    with open(history_path.joinpath(filename), encoding='utf-8') as f:  # some title contain unicode chars\n",
    "        history_page = json.load(f)\n",
    "        history_all.extend(history_page)"
   ]
  },
  {
   "cell_type": "code",
   "execution_count": 188,
   "metadata": {},
   "outputs": [],
   "source": [
    "\n",
    "import re\n",
    "def strip_non_alphanumeric(s):\n",
    "    pattern = re.compile('[^a-zA-Z0-9_ ]+')\n",
    "    return pattern.sub('', s)\n",
    "\n",
    "# normalize not used yet\n",
    "def normalize_search(search_str):\n",
    "    words = search_str.lower().split(\" \")\n",
    "    remove_words = [\"the\", \"a\", \"an\"]\n",
    "    filtered_words = list(filter(lambda x: x not in remove_words, words))\n",
    "    normalized_search = \" \".join(filtered_words)\n",
    "\n",
    "    return normalized_search\n",
    "\n",
    "def format_track_query(history_obj):\n",
    "    artist = history_obj[\"artistName\"]\n",
    "    track = history_obj[\"trackName\"]\n",
    "    search_term = strip_non_alphanumeric(s=f\"{artist} {track}\")\n",
    "    return search_term\n",
    "\n",
    "\n",
    "def get_artist_id(history_obj):\n",
    "    artist_name = history_obj['artistName'].lower()\n",
    "\n",
    "    query = urllib.parse.quote_plus(strip_non_alphanumeric(artist_name))\n",
    "    result = spotify.search(q=query, market=\"US\", type=\"artist\")  # limit 10 by default should be enough\n",
    "\n",
    "    for item in result[\"artists\"][\"items\"]:\n",
    "        item_name = item[\"name\"].lower()\n",
    "\n",
    "        if item_name == artist_name:\n",
    "            return item[\"id\"]\n",
    "\n",
    "def get_albums(artist_id):\n",
    "    offset = 0\n",
    "    limit = 50\n",
    "    \n",
    "    albums = []\n",
    "    next = True\n",
    "    while next:\n",
    "        response = spotify.artist_albums(artist_id=artist_id, country=\"US\", limit=limit, offset=offset)\n",
    "        next = response[\"next\"]\n",
    "        offset += limit\n",
    "        albums.extend(response[\"items\"])\n",
    "\n",
    "    return albums\n",
    "\n",
    "def get_album_tracks(album_id):\n",
    "    offset = 0\n",
    "    limit = 50\n",
    "    \n",
    "    tracks = []\n",
    "    next = True\n",
    "    while next:\n",
    "        response = spotify.album_tracks(album_id=album_id, market=\"US\", limit=limit, offset=offset)\n",
    "        next = response[\"next\"]\n",
    "        offset += limit\n",
    "        tracks.extend(response[\"items\"])\n",
    "\n",
    "    return tracks\n",
    "\n",
    "\n",
    "def get_track_id(history_obj):\n",
    "    query = urllib.parse.quote_plus(format_track_query(history_obj=history_obj))\n",
    "    result = spotify.search(q=query, market=\"US\", type=\"track\")\n",
    "\n",
    "    track_name = history_obj['trackName'].lower()\n",
    "    artist_name = history_obj['artistName'].lower()\n",
    "\n",
    "    for item in result[\"tracks\"][\"items\"]:\n",
    "        item_name = item[\"name\"].lower()\n",
    "        item_artist = item[\"artists\"][0][\"name\"].lower()\n",
    "        if item_name == track_name and item_artist == artist_name:\n",
    "            return item[\"id\"]\n",
    "\n",
    "    # Some tracks aren't searchable :( Look in artist's albums instead\n",
    "\n",
    "    artist_id = get_artist_id(history_obj=history_obj)\n",
    "\n",
    "    if not artist_id:\n",
    "        print(f\"Artist not found: {history_obj['artistName']}\")\n",
    "        return\n",
    "\n",
    "    albums = get_albums(artist_id=artist_id)\n",
    "\n",
    "    for album in albums:\n",
    "        album_name = album[\"name\"].lower()\n",
    "        if album_name == track_name:\n",
    "            album_tracks = get_album_tracks(album_id=album[\"id\"])\n",
    "            for album_track in album_tracks:\n",
    "                album_track_name = album_track[\"name\"].lower()\n",
    "                if album_track_name == track_name:\n",
    "                    return album_track[\"id\"]\n",
    "    \n",
    "    print(f\"Track `{history_obj['trackName']}` not found for artist `{history_obj['artistName']}`\")\n",
    "    return\n"
   ]
  },
  {
   "cell_type": "code",
   "execution_count": 198,
   "metadata": {},
   "outputs": [],
   "source": [
    "playlist =  spotify.user_playlist_create(user=config[\"SPOTIFY\"][\"username\"], name=\"Date Night Playback\")"
   ]
  },
  {
   "cell_type": "code",
   "execution_count": 197,
   "metadata": {},
   "outputs": [
    {
     "name": "stdout",
     "output_type": "stream",
     "text": [
      "search_count=102, found_count=102\n"
     ]
    }
   ],
   "source": [
    "start_datetime = \"2022-10-29 06:20\"\n",
    "end_datetime = \"2022-10-29 12\"\n",
    "track_ids = []\n",
    "\n",
    "search_count = 0\n",
    "for history_obj in history_all:\n",
    "    if history_obj[\"endTime\"] < start_datetime or history_obj[\"endTime\"] > end_datetime or history_obj[\"msPlayed\"] < 60000:\n",
    "        continue\n",
    "    track_id = get_track_id(history_obj=history_obj)\n",
    "    search_count += 1\n",
    "    if track_id:\n",
    "        track_ids.append(track_id)\n",
    "\n",
    "print(f\"search_count={search_count}, found_count={len(track_ids)}\")"
   ]
  },
  {
   "cell_type": "code",
   "execution_count": 201,
   "metadata": {},
   "outputs": [],
   "source": [
    "track_ids = [t for t in track_ids if t]\n",
    "def get_chunks(l, n):\n",
    "    for i in range(0, len(l), n):\n",
    "        yield l[i:i + n]\n",
    "\n",
    "playlist_add_items_max = 100\n",
    "for chunk in get_chunks(l=track_ids, n=playlist_add_items_max):\n",
    "    add_tracks_response = spotify.playlist_add_items(\n",
    "        playlist_id=playlist[\"id\"],\n",
    "        items=chunk,\n",
    "    )\n"
   ]
  },
  {
   "cell_type": "code",
   "execution_count": 72,
   "metadata": {},
   "outputs": [
    {
     "data": {
      "text/plain": [
       "'4njORatgD4DQOZsgio3Wiq'"
      ]
     },
     "execution_count": 72,
     "metadata": {},
     "output_type": "execute_result"
    }
   ],
   "source": [
    "history_obj = history_all[0]\n",
    "get_track_id(history_obj=history_obj)"
   ]
  },
  {
   "cell_type": "code",
   "execution_count": 189,
   "metadata": {},
   "outputs": [
    {
     "name": "stdout",
     "output_type": "stream",
     "text": [
      "Louis+The+Child+Save+Me+From+Myself+with+NoMBe++Big+Gigantic\n",
      "{'endTime': '2022-11-06 20:50', 'artistName': 'Louis The Child', 'trackName': 'Save Me From Myself (with NoMBe & Big Gigantic)', 'msPlayed': 211685}\n",
      "dict_keys(['album', 'artists', 'disc_number', 'duration_ms', 'explicit', 'external_ids', 'external_urls', 'href', 'id', 'is_local', 'is_playable', 'name', 'popularity', 'preview_url', 'track_number', 'type', 'uri'])\n",
      "['Save Me From Myself (with NoMBe & Big Gigantic)', 'Save Me From Myself (with NoMBe & Big Gigantic) - Win And Woo Remix', \"It's Strange\", 'Miss Primetime (feat. Pell)', 'Got Me Like', 'Save Me From Myself', 'Big Love (with EARTHGANG & MNDR)', 'Weekend', 'Hole In My Heart (with Livingston)', 'Free (with Drew Love)']\n",
      "['Louis The Child', 'Louis The Child', 'Louis The Child', 'Big Gigantic', 'Big Gigantic', 'Louis The Child', 'Louis The Child', 'Louis The Child', 'Louis The Child', 'Louis The Child']\n"
     ]
    },
    {
     "ename": "KeyError",
     "evalue": "'albums'",
     "output_type": "error",
     "traceback": [
      "\u001b[0;31m---------------------------------------------------------------------------\u001b[0m",
      "\u001b[0;31mKeyError\u001b[0m                                  Traceback (most recent call last)",
      "\u001b[0;32m<ipython-input-189-e4d9ba8a29d3>\u001b[0m in \u001b[0;36m<module>\u001b[0;34m\u001b[0m\n\u001b[1;32m     18\u001b[0m \u001b[0;34m\u001b[0m\u001b[0m\n\u001b[1;32m     19\u001b[0m \u001b[0mresult\u001b[0m\u001b[0;34m[\u001b[0m\u001b[0;34m'tracks'\u001b[0m\u001b[0;34m]\u001b[0m\u001b[0;34m[\u001b[0m\u001b[0;34m'items'\u001b[0m\u001b[0;34m]\u001b[0m\u001b[0;34m[\u001b[0m\u001b[0;36m0\u001b[0m\u001b[0;34m]\u001b[0m\u001b[0;34m[\u001b[0m\u001b[0;34m'artists'\u001b[0m\u001b[0;34m]\u001b[0m\u001b[0;34m[\u001b[0m\u001b[0;36m0\u001b[0m\u001b[0;34m]\u001b[0m\u001b[0;34m[\u001b[0m\u001b[0;34m\"name\"\u001b[0m\u001b[0;34m]\u001b[0m\u001b[0;34m\u001b[0m\u001b[0;34m\u001b[0m\u001b[0m\n\u001b[0;32m---> 20\u001b[0;31m \u001b[0mresult\u001b[0m\u001b[0;34m[\u001b[0m\u001b[0;34m\"albums\"\u001b[0m\u001b[0;34m]\u001b[0m\u001b[0;34m\u001b[0m\u001b[0;34m\u001b[0m\u001b[0m\n\u001b[0m",
      "\u001b[0;31mKeyError\u001b[0m: 'albums'"
     ]
    }
   ],
   "source": [
    "history_obj = {\n",
    "    \"endTime\" : \"2022-11-06 20:50\",\n",
    "    \"artistName\" : \"Louis The Child\",\n",
    "    \"trackName\" : \"Save Me From Myself (with NoMBe & Big Gigantic)\",\n",
    "    \"msPlayed\" : 211685\n",
    "  }\n",
    "\n",
    "query = urllib.parse.quote_plus(strip_non_alphanumeric(f\"{history_obj['artistName']} {history_obj['trackName']}\"))\n",
    "result = spotify.search(q=query, type=\"track\", market=\"US\")\n",
    "\n",
    "print (query)\n",
    "\n",
    "print(history_obj)\n",
    "result['tracks'].keys()\n",
    "print(result['tracks']['items'][0].keys())\n",
    "print([x['name'] for x in result['tracks']['items']])\n",
    "print([x['artists'][0][\"name\"] for x in result['tracks']['items']])\n",
    "\n",
    "result['tracks']['items'][0]['artists'][0][\"name\"]\n",
    "result[\"albums\"]"
   ]
  },
  {
   "cell_type": "code",
   "execution_count": 171,
   "metadata": {},
   "outputs": [
    {
     "data": {
      "text/plain": [
       "{'artists': {'href': 'https://api.spotify.com/v1/search?query=Snacks&type=artist&market=US&offset=0&limit=10',\n",
       "  'items': [{'external_urls': {'spotify': 'https://open.spotify.com/artist/2FybCOkpsTiXYNccjPpiYh'},\n",
       "    'followers': {'href': None, 'total': 4074},\n",
       "    'genres': ['alabama indie'],\n",
       "    'href': 'https://api.spotify.com/v1/artists/2FybCOkpsTiXYNccjPpiYh',\n",
       "    'id': '2FybCOkpsTiXYNccjPpiYh',\n",
       "    'images': [{'height': 640,\n",
       "      'url': 'https://i.scdn.co/image/ab6761610000e5ebabb004a501efefe6c8a9b147',\n",
       "      'width': 640},\n",
       "     {'height': 320,\n",
       "      'url': 'https://i.scdn.co/image/ab67616100005174abb004a501efefe6c8a9b147',\n",
       "      'width': 320},\n",
       "     {'height': 160,\n",
       "      'url': 'https://i.scdn.co/image/ab6761610000f178abb004a501efefe6c8a9b147',\n",
       "      'width': 160}],\n",
       "    'name': 'Snacks',\n",
       "    'popularity': 28,\n",
       "    'type': 'artist',\n",
       "    'uri': 'spotify:artist:2FybCOkpsTiXYNccjPpiYh'},\n",
       "   {'external_urls': {'spotify': 'https://open.spotify.com/artist/2jeOQgTv66XWIOzCscYyQl'},\n",
       "    'followers': {'href': None, 'total': 243},\n",
       "    'genres': [],\n",
       "    'href': 'https://api.spotify.com/v1/artists/2jeOQgTv66XWIOzCscYyQl',\n",
       "    'id': '2jeOQgTv66XWIOzCscYyQl',\n",
       "    'images': [{'height': 640,\n",
       "      'url': 'https://i.scdn.co/image/ab67616d0000b2734522fc6375f6dcc0acf2324a',\n",
       "      'width': 640},\n",
       "     {'height': 300,\n",
       "      'url': 'https://i.scdn.co/image/ab67616d00001e024522fc6375f6dcc0acf2324a',\n",
       "      'width': 300},\n",
       "     {'height': 64,\n",
       "      'url': 'https://i.scdn.co/image/ab67616d000048514522fc6375f6dcc0acf2324a',\n",
       "      'width': 64}],\n",
       "    'name': 'Snacks',\n",
       "    'popularity': 3,\n",
       "    'type': 'artist',\n",
       "    'uri': 'spotify:artist:2jeOQgTv66XWIOzCscYyQl'},\n",
       "   {'external_urls': {'spotify': 'https://open.spotify.com/artist/2HOxvDKwdKIFfVdw1wnVlC'},\n",
       "    'followers': {'href': None, 'total': 736},\n",
       "    'genres': [],\n",
       "    'href': 'https://api.spotify.com/v1/artists/2HOxvDKwdKIFfVdw1wnVlC',\n",
       "    'id': '2HOxvDKwdKIFfVdw1wnVlC',\n",
       "    'images': [{'height': 640,\n",
       "      'url': 'https://i.scdn.co/image/ab6761610000e5ebc04db63419e3ac901f4d9b13',\n",
       "      'width': 640},\n",
       "     {'height': 320,\n",
       "      'url': 'https://i.scdn.co/image/ab67616100005174c04db63419e3ac901f4d9b13',\n",
       "      'width': 320},\n",
       "     {'height': 160,\n",
       "      'url': 'https://i.scdn.co/image/ab6761610000f178c04db63419e3ac901f4d9b13',\n",
       "      'width': 160}],\n",
       "    'name': 'Snacks',\n",
       "    'popularity': 0,\n",
       "    'type': 'artist',\n",
       "    'uri': 'spotify:artist:2HOxvDKwdKIFfVdw1wnVlC'},\n",
       "   {'external_urls': {'spotify': 'https://open.spotify.com/artist/5gZDpKtrxDf0ULvDuhLMZy'},\n",
       "    'followers': {'href': None, 'total': 24803},\n",
       "    'genres': ['downtempo bass', 'future bass'],\n",
       "    'href': 'https://api.spotify.com/v1/artists/5gZDpKtrxDf0ULvDuhLMZy',\n",
       "    'id': '5gZDpKtrxDf0ULvDuhLMZy',\n",
       "    'images': [{'height': 640,\n",
       "      'url': 'https://i.scdn.co/image/ab6761610000e5ebb72cdc57921b5e650d5816ef',\n",
       "      'width': 640},\n",
       "     {'height': 320,\n",
       "      'url': 'https://i.scdn.co/image/ab67616100005174b72cdc57921b5e650d5816ef',\n",
       "      'width': 320},\n",
       "     {'height': 160,\n",
       "      'url': 'https://i.scdn.co/image/ab6761610000f178b72cdc57921b5e650d5816ef',\n",
       "      'width': 160}],\n",
       "    'name': 'Bad Snacks',\n",
       "    'popularity': 34,\n",
       "    'type': 'artist',\n",
       "    'uri': 'spotify:artist:5gZDpKtrxDf0ULvDuhLMZy'},\n",
       "   {'external_urls': {'spotify': 'https://open.spotify.com/artist/5jSvWMySFuwuXtBMRZQpRE'},\n",
       "    'followers': {'href': None, 'total': 7},\n",
       "    'genres': [],\n",
       "    'href': 'https://api.spotify.com/v1/artists/5jSvWMySFuwuXtBMRZQpRE',\n",
       "    'id': '5jSvWMySFuwuXtBMRZQpRE',\n",
       "    'images': [{'height': 640,\n",
       "      'url': 'https://i.scdn.co/image/ab6761610000e5ebb3d71fe7f80043a9b1846a95',\n",
       "      'width': 640},\n",
       "     {'height': 320,\n",
       "      'url': 'https://i.scdn.co/image/ab67616100005174b3d71fe7f80043a9b1846a95',\n",
       "      'width': 320},\n",
       "     {'height': 160,\n",
       "      'url': 'https://i.scdn.co/image/ab6761610000f178b3d71fe7f80043a9b1846a95',\n",
       "      'width': 160}],\n",
       "    'name': 'Snacks',\n",
       "    'popularity': 4,\n",
       "    'type': 'artist',\n",
       "    'uri': 'spotify:artist:5jSvWMySFuwuXtBMRZQpRE'},\n",
       "   {'external_urls': {'spotify': 'https://open.spotify.com/artist/0qA1ehgIqED78ZoFw6I3Xg'},\n",
       "    'followers': {'href': None, 'total': 1139},\n",
       "    'genres': ['vbs'],\n",
       "    'href': 'https://api.spotify.com/v1/artists/0qA1ehgIqED78ZoFw6I3Xg',\n",
       "    'id': '0qA1ehgIqED78ZoFw6I3Xg',\n",
       "    'images': [{'height': 640,\n",
       "      'url': 'https://i.scdn.co/image/ab67616d0000b2739da4a5425aa58d3ba5fceac1',\n",
       "      'width': 640},\n",
       "     {'height': 300,\n",
       "      'url': 'https://i.scdn.co/image/ab67616d00001e029da4a5425aa58d3ba5fceac1',\n",
       "      'width': 300},\n",
       "     {'height': 64,\n",
       "      'url': 'https://i.scdn.co/image/ab67616d000048519da4a5425aa58d3ba5fceac1',\n",
       "      'width': 64}],\n",
       "    'name': 'Scripture Snacks Kids',\n",
       "    'popularity': 22,\n",
       "    'type': 'artist',\n",
       "    'uri': 'spotify:artist:0qA1ehgIqED78ZoFw6I3Xg'},\n",
       "   {'external_urls': {'spotify': 'https://open.spotify.com/artist/2kAd2nscyVe78kH5SWFeqf'},\n",
       "    'followers': {'href': None, 'total': 14},\n",
       "    'genres': [],\n",
       "    'href': 'https://api.spotify.com/v1/artists/2kAd2nscyVe78kH5SWFeqf',\n",
       "    'id': '2kAd2nscyVe78kH5SWFeqf',\n",
       "    'images': [{'height': 640,\n",
       "      'url': 'https://i.scdn.co/image/ab67616d0000b273ae0641a7231be51c3e39ce72',\n",
       "      'width': 640},\n",
       "     {'height': 300,\n",
       "      'url': 'https://i.scdn.co/image/ab67616d00001e02ae0641a7231be51c3e39ce72',\n",
       "      'width': 300},\n",
       "     {'height': 64,\n",
       "      'url': 'https://i.scdn.co/image/ab67616d00004851ae0641a7231be51c3e39ce72',\n",
       "      'width': 64}],\n",
       "    'name': 'Snacks',\n",
       "    'popularity': 3,\n",
       "    'type': 'artist',\n",
       "    'uri': 'spotify:artist:2kAd2nscyVe78kH5SWFeqf'},\n",
       "   {'external_urls': {'spotify': 'https://open.spotify.com/artist/5rXaOEzB1J3SPGCwb6yVcG'},\n",
       "    'followers': {'href': None, 'total': 1183},\n",
       "    'genres': ['acoustic chill'],\n",
       "    'href': 'https://api.spotify.com/v1/artists/5rXaOEzB1J3SPGCwb6yVcG',\n",
       "    'id': '5rXaOEzB1J3SPGCwb6yVcG',\n",
       "    'images': [{'height': 640,\n",
       "      'url': 'https://i.scdn.co/image/ab67616d0000b273c7c8d1ef00dccdba9661ad92',\n",
       "      'width': 640},\n",
       "     {'height': 300,\n",
       "      'url': 'https://i.scdn.co/image/ab67616d00001e02c7c8d1ef00dccdba9661ad92',\n",
       "      'width': 300},\n",
       "     {'height': 64,\n",
       "      'url': 'https://i.scdn.co/image/ab67616d00004851c7c8d1ef00dccdba9661ad92',\n",
       "      'width': 64}],\n",
       "    'name': 'Salty Snacks',\n",
       "    'popularity': 29,\n",
       "    'type': 'artist',\n",
       "    'uri': 'spotify:artist:5rXaOEzB1J3SPGCwb6yVcG'},\n",
       "   {'external_urls': {'spotify': 'https://open.spotify.com/artist/53ZfWvmtJjLPOPIc12AcaK'},\n",
       "    'followers': {'href': None, 'total': 1025},\n",
       "    'genres': [],\n",
       "    'href': 'https://api.spotify.com/v1/artists/53ZfWvmtJjLPOPIc12AcaK',\n",
       "    'id': '53ZfWvmtJjLPOPIc12AcaK',\n",
       "    'images': [{'height': 640,\n",
       "      'url': 'https://i.scdn.co/image/ab6761610000e5eb3b140366139b9d1494677b04',\n",
       "      'width': 640},\n",
       "     {'height': 320,\n",
       "      'url': 'https://i.scdn.co/image/ab676161000051743b140366139b9d1494677b04',\n",
       "      'width': 320},\n",
       "     {'height': 160,\n",
       "      'url': 'https://i.scdn.co/image/ab6761610000f1783b140366139b9d1494677b04',\n",
       "      'width': 160}],\n",
       "    'name': 'Snacks at Midnight',\n",
       "    'popularity': 4,\n",
       "    'type': 'artist',\n",
       "    'uri': 'spotify:artist:53ZfWvmtJjLPOPIc12AcaK'},\n",
       "   {'external_urls': {'spotify': 'https://open.spotify.com/artist/1MEsZEQxU77gbKGEj5pZdX'},\n",
       "    'followers': {'href': None, 'total': 7724},\n",
       "    'genres': [],\n",
       "    'href': 'https://api.spotify.com/v1/artists/1MEsZEQxU77gbKGEj5pZdX',\n",
       "    'id': '1MEsZEQxU77gbKGEj5pZdX',\n",
       "    'images': [{'height': 640,\n",
       "      'url': 'https://i.scdn.co/image/ab6761610000e5eb2f750ea9f78cc10f8159dce1',\n",
       "      'width': 640},\n",
       "     {'height': 320,\n",
       "      'url': 'https://i.scdn.co/image/ab676161000051742f750ea9f78cc10f8159dce1',\n",
       "      'width': 320},\n",
       "     {'height': 160,\n",
       "      'url': 'https://i.scdn.co/image/ab6761610000f1782f750ea9f78cc10f8159dce1',\n",
       "      'width': 160}],\n",
       "    'name': 'snackrunner',\n",
       "    'popularity': 47,\n",
       "    'type': 'artist',\n",
       "    'uri': 'spotify:artist:1MEsZEQxU77gbKGEj5pZdX'}],\n",
       "  'limit': 10,\n",
       "  'next': 'https://api.spotify.com/v1/search?query=Snacks&type=artist&market=US&offset=10&limit=10',\n",
       "  'offset': 0,\n",
       "  'previous': None,\n",
       "  'total': 589}}"
      ]
     },
     "execution_count": 171,
     "metadata": {},
     "output_type": "execute_result"
    }
   ],
   "source": [
    "# spotify.artist(\"0QxJg8Lweby6eLUGSWeuId\")\n",
    "spotify.search(q=\"Snacks\", market=\"US\", type=\"artist\")\n",
    "# spotify.album_tracks(album_id=\"62i1Rngc3iKPYJShOQx1ly\")[\"items\"][0][\"name\"]\n",
    "# response = spotify.artist_albums(artist_id=\"1E3qGlNjHcdqAYMT4Wi6cm\", country=\"US\", limit=50)  # DJ Susan\n",
    "# albums = response[\"items\"]\n",
    "# for album in albums:\n",
    "#     if album[\"name\"] == \"Chit Chat\":\n",
    "#         print(album)\n",
    "# len(get_albums(artist_id=\"1E3qGlNjHcdqAYMT4Wi6cm\"))"
   ]
  },
  {
   "cell_type": "code",
   "execution_count": 80,
   "metadata": {},
   "outputs": [
    {
     "ename": "KeyboardInterrupt",
     "evalue": "",
     "output_type": "error",
     "traceback": [
      "\u001b[0;31m---------------------------------------------------------------------------\u001b[0m",
      "\u001b[0;31mKeyboardInterrupt\u001b[0m                         Traceback (most recent call last)",
      "\u001b[0;32m<ipython-input-80-ad0c9a213c39>\u001b[0m in \u001b[0;36m<module>\u001b[0;34m\u001b[0m\n\u001b[0;32m----> 1\u001b[0;31m \u001b[0mdriver\u001b[0m\u001b[0;34m.\u001b[0m\u001b[0mclose\u001b[0m\u001b[0;34m(\u001b[0m\u001b[0;34m)\u001b[0m\u001b[0;34m\u001b[0m\u001b[0;34m\u001b[0m\u001b[0m\n\u001b[0m",
      "\u001b[0;32m~/.pyenv/versions/last-fm-to-spotify/lib/python3.6/site-packages/selenium/webdriver/remote/webdriver.py\u001b[0m in \u001b[0;36mclose\u001b[0;34m(self)\u001b[0m\n\u001b[1;32m    686\u001b[0m             \u001b[0mdriver\u001b[0m\u001b[0;34m.\u001b[0m\u001b[0mclose\u001b[0m\u001b[0;34m(\u001b[0m\u001b[0;34m)\u001b[0m\u001b[0;34m\u001b[0m\u001b[0;34m\u001b[0m\u001b[0m\n\u001b[1;32m    687\u001b[0m         \"\"\"\n\u001b[0;32m--> 688\u001b[0;31m         \u001b[0mself\u001b[0m\u001b[0;34m.\u001b[0m\u001b[0mexecute\u001b[0m\u001b[0;34m(\u001b[0m\u001b[0mCommand\u001b[0m\u001b[0;34m.\u001b[0m\u001b[0mCLOSE\u001b[0m\u001b[0;34m)\u001b[0m\u001b[0;34m\u001b[0m\u001b[0;34m\u001b[0m\u001b[0m\n\u001b[0m\u001b[1;32m    689\u001b[0m \u001b[0;34m\u001b[0m\u001b[0m\n\u001b[1;32m    690\u001b[0m     \u001b[0;32mdef\u001b[0m \u001b[0mquit\u001b[0m\u001b[0;34m(\u001b[0m\u001b[0mself\u001b[0m\u001b[0;34m)\u001b[0m\u001b[0;34m:\u001b[0m\u001b[0;34m\u001b[0m\u001b[0;34m\u001b[0m\u001b[0m\n",
      "\u001b[0;32m~/.pyenv/versions/last-fm-to-spotify/lib/python3.6/site-packages/selenium/webdriver/remote/webdriver.py\u001b[0m in \u001b[0;36mexecute\u001b[0;34m(self, driver_command, params)\u001b[0m\n\u001b[1;32m    317\u001b[0m \u001b[0;34m\u001b[0m\u001b[0m\n\u001b[1;32m    318\u001b[0m         \u001b[0mparams\u001b[0m \u001b[0;34m=\u001b[0m \u001b[0mself\u001b[0m\u001b[0;34m.\u001b[0m\u001b[0m_wrap_value\u001b[0m\u001b[0;34m(\u001b[0m\u001b[0mparams\u001b[0m\u001b[0;34m)\u001b[0m\u001b[0;34m\u001b[0m\u001b[0;34m\u001b[0m\u001b[0m\n\u001b[0;32m--> 319\u001b[0;31m         \u001b[0mresponse\u001b[0m \u001b[0;34m=\u001b[0m \u001b[0mself\u001b[0m\u001b[0;34m.\u001b[0m\u001b[0mcommand_executor\u001b[0m\u001b[0;34m.\u001b[0m\u001b[0mexecute\u001b[0m\u001b[0;34m(\u001b[0m\u001b[0mdriver_command\u001b[0m\u001b[0;34m,\u001b[0m \u001b[0mparams\u001b[0m\u001b[0;34m)\u001b[0m\u001b[0;34m\u001b[0m\u001b[0;34m\u001b[0m\u001b[0m\n\u001b[0m\u001b[1;32m    320\u001b[0m         \u001b[0;32mif\u001b[0m \u001b[0mresponse\u001b[0m\u001b[0;34m:\u001b[0m\u001b[0;34m\u001b[0m\u001b[0;34m\u001b[0m\u001b[0m\n\u001b[1;32m    321\u001b[0m             \u001b[0mself\u001b[0m\u001b[0;34m.\u001b[0m\u001b[0merror_handler\u001b[0m\u001b[0;34m.\u001b[0m\u001b[0mcheck_response\u001b[0m\u001b[0;34m(\u001b[0m\u001b[0mresponse\u001b[0m\u001b[0;34m)\u001b[0m\u001b[0;34m\u001b[0m\u001b[0;34m\u001b[0m\u001b[0m\n",
      "\u001b[0;32m~/.pyenv/versions/last-fm-to-spotify/lib/python3.6/site-packages/selenium/webdriver/remote/remote_connection.py\u001b[0m in \u001b[0;36mexecute\u001b[0;34m(self, command, params)\u001b[0m\n\u001b[1;32m    372\u001b[0m         \u001b[0mdata\u001b[0m \u001b[0;34m=\u001b[0m \u001b[0mutils\u001b[0m\u001b[0;34m.\u001b[0m\u001b[0mdump_json\u001b[0m\u001b[0;34m(\u001b[0m\u001b[0mparams\u001b[0m\u001b[0;34m)\u001b[0m\u001b[0;34m\u001b[0m\u001b[0;34m\u001b[0m\u001b[0m\n\u001b[1;32m    373\u001b[0m         \u001b[0murl\u001b[0m \u001b[0;34m=\u001b[0m \u001b[0;34m'%s%s'\u001b[0m \u001b[0;34m%\u001b[0m \u001b[0;34m(\u001b[0m\u001b[0mself\u001b[0m\u001b[0;34m.\u001b[0m\u001b[0m_url\u001b[0m\u001b[0;34m,\u001b[0m \u001b[0mpath\u001b[0m\u001b[0;34m)\u001b[0m\u001b[0;34m\u001b[0m\u001b[0;34m\u001b[0m\u001b[0m\n\u001b[0;32m--> 374\u001b[0;31m         \u001b[0;32mreturn\u001b[0m \u001b[0mself\u001b[0m\u001b[0;34m.\u001b[0m\u001b[0m_request\u001b[0m\u001b[0;34m(\u001b[0m\u001b[0mcommand_info\u001b[0m\u001b[0;34m[\u001b[0m\u001b[0;36m0\u001b[0m\u001b[0;34m]\u001b[0m\u001b[0;34m,\u001b[0m \u001b[0murl\u001b[0m\u001b[0;34m,\u001b[0m \u001b[0mbody\u001b[0m\u001b[0;34m=\u001b[0m\u001b[0mdata\u001b[0m\u001b[0;34m)\u001b[0m\u001b[0;34m\u001b[0m\u001b[0;34m\u001b[0m\u001b[0m\n\u001b[0m\u001b[1;32m    375\u001b[0m \u001b[0;34m\u001b[0m\u001b[0m\n\u001b[1;32m    376\u001b[0m     \u001b[0;32mdef\u001b[0m \u001b[0m_request\u001b[0m\u001b[0;34m(\u001b[0m\u001b[0mself\u001b[0m\u001b[0;34m,\u001b[0m \u001b[0mmethod\u001b[0m\u001b[0;34m,\u001b[0m \u001b[0murl\u001b[0m\u001b[0;34m,\u001b[0m \u001b[0mbody\u001b[0m\u001b[0;34m=\u001b[0m\u001b[0;32mNone\u001b[0m\u001b[0;34m)\u001b[0m\u001b[0;34m:\u001b[0m\u001b[0;34m\u001b[0m\u001b[0;34m\u001b[0m\u001b[0m\n",
      "\u001b[0;32m~/.pyenv/versions/last-fm-to-spotify/lib/python3.6/site-packages/selenium/webdriver/remote/remote_connection.py\u001b[0m in \u001b[0;36m_request\u001b[0;34m(self, method, url, body)\u001b[0m\n\u001b[1;32m    395\u001b[0m \u001b[0;34m\u001b[0m\u001b[0m\n\u001b[1;32m    396\u001b[0m         \u001b[0;32mif\u001b[0m \u001b[0mself\u001b[0m\u001b[0;34m.\u001b[0m\u001b[0mkeep_alive\u001b[0m\u001b[0;34m:\u001b[0m\u001b[0;34m\u001b[0m\u001b[0;34m\u001b[0m\u001b[0m\n\u001b[0;32m--> 397\u001b[0;31m             \u001b[0mresp\u001b[0m \u001b[0;34m=\u001b[0m \u001b[0mself\u001b[0m\u001b[0;34m.\u001b[0m\u001b[0m_conn\u001b[0m\u001b[0;34m.\u001b[0m\u001b[0mrequest\u001b[0m\u001b[0;34m(\u001b[0m\u001b[0mmethod\u001b[0m\u001b[0;34m,\u001b[0m \u001b[0murl\u001b[0m\u001b[0;34m,\u001b[0m \u001b[0mbody\u001b[0m\u001b[0;34m=\u001b[0m\u001b[0mbody\u001b[0m\u001b[0;34m,\u001b[0m \u001b[0mheaders\u001b[0m\u001b[0;34m=\u001b[0m\u001b[0mheaders\u001b[0m\u001b[0;34m)\u001b[0m\u001b[0;34m\u001b[0m\u001b[0;34m\u001b[0m\u001b[0m\n\u001b[0m\u001b[1;32m    398\u001b[0m \u001b[0;34m\u001b[0m\u001b[0m\n\u001b[1;32m    399\u001b[0m             \u001b[0mstatuscode\u001b[0m \u001b[0;34m=\u001b[0m \u001b[0mresp\u001b[0m\u001b[0;34m.\u001b[0m\u001b[0mstatus\u001b[0m\u001b[0;34m\u001b[0m\u001b[0;34m\u001b[0m\u001b[0m\n",
      "\u001b[0;32m~/.pyenv/versions/last-fm-to-spotify/lib/python3.6/site-packages/urllib3/request.py\u001b[0m in \u001b[0;36mrequest\u001b[0;34m(self, method, url, fields, headers, **urlopen_kw)\u001b[0m\n\u001b[1;32m     73\u001b[0m         \u001b[0;32mif\u001b[0m \u001b[0mmethod\u001b[0m \u001b[0;32min\u001b[0m \u001b[0mself\u001b[0m\u001b[0;34m.\u001b[0m\u001b[0m_encode_url_methods\u001b[0m\u001b[0;34m:\u001b[0m\u001b[0;34m\u001b[0m\u001b[0;34m\u001b[0m\u001b[0m\n\u001b[1;32m     74\u001b[0m             return self.request_encode_url(\n\u001b[0;32m---> 75\u001b[0;31m                 \u001b[0mmethod\u001b[0m\u001b[0;34m,\u001b[0m \u001b[0murl\u001b[0m\u001b[0;34m,\u001b[0m \u001b[0mfields\u001b[0m\u001b[0;34m=\u001b[0m\u001b[0mfields\u001b[0m\u001b[0;34m,\u001b[0m \u001b[0mheaders\u001b[0m\u001b[0;34m=\u001b[0m\u001b[0mheaders\u001b[0m\u001b[0;34m,\u001b[0m \u001b[0;34m**\u001b[0m\u001b[0murlopen_kw\u001b[0m\u001b[0;34m\u001b[0m\u001b[0;34m\u001b[0m\u001b[0m\n\u001b[0m\u001b[1;32m     76\u001b[0m             )\n\u001b[1;32m     77\u001b[0m         \u001b[0;32melse\u001b[0m\u001b[0;34m:\u001b[0m\u001b[0;34m\u001b[0m\u001b[0;34m\u001b[0m\u001b[0m\n",
      "\u001b[0;32m~/.pyenv/versions/last-fm-to-spotify/lib/python3.6/site-packages/urllib3/request.py\u001b[0m in \u001b[0;36mrequest_encode_url\u001b[0;34m(self, method, url, fields, headers, **urlopen_kw)\u001b[0m\n\u001b[1;32m     94\u001b[0m             \u001b[0murl\u001b[0m \u001b[0;34m+=\u001b[0m \u001b[0;34m\"?\"\u001b[0m \u001b[0;34m+\u001b[0m \u001b[0murlencode\u001b[0m\u001b[0;34m(\u001b[0m\u001b[0mfields\u001b[0m\u001b[0;34m)\u001b[0m\u001b[0;34m\u001b[0m\u001b[0;34m\u001b[0m\u001b[0m\n\u001b[1;32m     95\u001b[0m \u001b[0;34m\u001b[0m\u001b[0m\n\u001b[0;32m---> 96\u001b[0;31m         \u001b[0;32mreturn\u001b[0m \u001b[0mself\u001b[0m\u001b[0;34m.\u001b[0m\u001b[0murlopen\u001b[0m\u001b[0;34m(\u001b[0m\u001b[0mmethod\u001b[0m\u001b[0;34m,\u001b[0m \u001b[0murl\u001b[0m\u001b[0;34m,\u001b[0m \u001b[0;34m**\u001b[0m\u001b[0mextra_kw\u001b[0m\u001b[0;34m)\u001b[0m\u001b[0;34m\u001b[0m\u001b[0;34m\u001b[0m\u001b[0m\n\u001b[0m\u001b[1;32m     97\u001b[0m \u001b[0;34m\u001b[0m\u001b[0m\n\u001b[1;32m     98\u001b[0m     def request_encode_body(\n",
      "\u001b[0;32m~/.pyenv/versions/last-fm-to-spotify/lib/python3.6/site-packages/urllib3/poolmanager.py\u001b[0m in \u001b[0;36murlopen\u001b[0;34m(self, method, url, redirect, **kw)\u001b[0m\n\u001b[1;32m    374\u001b[0m             \u001b[0mresponse\u001b[0m \u001b[0;34m=\u001b[0m \u001b[0mconn\u001b[0m\u001b[0;34m.\u001b[0m\u001b[0murlopen\u001b[0m\u001b[0;34m(\u001b[0m\u001b[0mmethod\u001b[0m\u001b[0;34m,\u001b[0m \u001b[0murl\u001b[0m\u001b[0;34m,\u001b[0m \u001b[0;34m**\u001b[0m\u001b[0mkw\u001b[0m\u001b[0;34m)\u001b[0m\u001b[0;34m\u001b[0m\u001b[0;34m\u001b[0m\u001b[0m\n\u001b[1;32m    375\u001b[0m         \u001b[0;32melse\u001b[0m\u001b[0;34m:\u001b[0m\u001b[0;34m\u001b[0m\u001b[0;34m\u001b[0m\u001b[0m\n\u001b[0;32m--> 376\u001b[0;31m             \u001b[0mresponse\u001b[0m \u001b[0;34m=\u001b[0m \u001b[0mconn\u001b[0m\u001b[0;34m.\u001b[0m\u001b[0murlopen\u001b[0m\u001b[0;34m(\u001b[0m\u001b[0mmethod\u001b[0m\u001b[0;34m,\u001b[0m \u001b[0mu\u001b[0m\u001b[0;34m.\u001b[0m\u001b[0mrequest_uri\u001b[0m\u001b[0;34m,\u001b[0m \u001b[0;34m**\u001b[0m\u001b[0mkw\u001b[0m\u001b[0;34m)\u001b[0m\u001b[0;34m\u001b[0m\u001b[0;34m\u001b[0m\u001b[0m\n\u001b[0m\u001b[1;32m    377\u001b[0m \u001b[0;34m\u001b[0m\u001b[0m\n\u001b[1;32m    378\u001b[0m         \u001b[0mredirect_location\u001b[0m \u001b[0;34m=\u001b[0m \u001b[0mredirect\u001b[0m \u001b[0;32mand\u001b[0m \u001b[0mresponse\u001b[0m\u001b[0;34m.\u001b[0m\u001b[0mget_redirect_location\u001b[0m\u001b[0;34m(\u001b[0m\u001b[0;34m)\u001b[0m\u001b[0;34m\u001b[0m\u001b[0;34m\u001b[0m\u001b[0m\n",
      "\u001b[0;32m~/.pyenv/versions/last-fm-to-spotify/lib/python3.6/site-packages/urllib3/connectionpool.py\u001b[0m in \u001b[0;36murlopen\u001b[0;34m(self, method, url, body, headers, retries, redirect, assert_same_host, timeout, pool_timeout, release_conn, chunked, body_pos, **response_kw)\u001b[0m\n\u001b[1;32m    708\u001b[0m                 \u001b[0mbody\u001b[0m\u001b[0;34m=\u001b[0m\u001b[0mbody\u001b[0m\u001b[0;34m,\u001b[0m\u001b[0;34m\u001b[0m\u001b[0;34m\u001b[0m\u001b[0m\n\u001b[1;32m    709\u001b[0m                 \u001b[0mheaders\u001b[0m\u001b[0;34m=\u001b[0m\u001b[0mheaders\u001b[0m\u001b[0;34m,\u001b[0m\u001b[0;34m\u001b[0m\u001b[0;34m\u001b[0m\u001b[0m\n\u001b[0;32m--> 710\u001b[0;31m                 \u001b[0mchunked\u001b[0m\u001b[0;34m=\u001b[0m\u001b[0mchunked\u001b[0m\u001b[0;34m,\u001b[0m\u001b[0;34m\u001b[0m\u001b[0;34m\u001b[0m\u001b[0m\n\u001b[0m\u001b[1;32m    711\u001b[0m             )\n\u001b[1;32m    712\u001b[0m \u001b[0;34m\u001b[0m\u001b[0m\n",
      "\u001b[0;32m~/.pyenv/versions/last-fm-to-spotify/lib/python3.6/site-packages/urllib3/connectionpool.py\u001b[0m in \u001b[0;36m_make_request\u001b[0;34m(self, conn, method, url, timeout, chunked, **httplib_request_kw)\u001b[0m\n\u001b[1;32m    447\u001b[0m                     \u001b[0;31m# Python 3 (including for exceptions like SystemExit).\u001b[0m\u001b[0;34m\u001b[0m\u001b[0;34m\u001b[0m\u001b[0;34m\u001b[0m\u001b[0m\n\u001b[1;32m    448\u001b[0m                     \u001b[0;31m# Otherwise it looks like a bug in the code.\u001b[0m\u001b[0;34m\u001b[0m\u001b[0;34m\u001b[0m\u001b[0;34m\u001b[0m\u001b[0m\n\u001b[0;32m--> 449\u001b[0;31m                     \u001b[0msix\u001b[0m\u001b[0;34m.\u001b[0m\u001b[0mraise_from\u001b[0m\u001b[0;34m(\u001b[0m\u001b[0me\u001b[0m\u001b[0;34m,\u001b[0m \u001b[0;32mNone\u001b[0m\u001b[0;34m)\u001b[0m\u001b[0;34m\u001b[0m\u001b[0;34m\u001b[0m\u001b[0m\n\u001b[0m\u001b[1;32m    450\u001b[0m         \u001b[0;32mexcept\u001b[0m \u001b[0;34m(\u001b[0m\u001b[0mSocketTimeout\u001b[0m\u001b[0;34m,\u001b[0m \u001b[0mBaseSSLError\u001b[0m\u001b[0;34m,\u001b[0m \u001b[0mSocketError\u001b[0m\u001b[0;34m)\u001b[0m \u001b[0;32mas\u001b[0m \u001b[0me\u001b[0m\u001b[0;34m:\u001b[0m\u001b[0;34m\u001b[0m\u001b[0;34m\u001b[0m\u001b[0m\n\u001b[1;32m    451\u001b[0m             \u001b[0mself\u001b[0m\u001b[0;34m.\u001b[0m\u001b[0m_raise_timeout\u001b[0m\u001b[0;34m(\u001b[0m\u001b[0merr\u001b[0m\u001b[0;34m=\u001b[0m\u001b[0me\u001b[0m\u001b[0;34m,\u001b[0m \u001b[0murl\u001b[0m\u001b[0;34m=\u001b[0m\u001b[0murl\u001b[0m\u001b[0;34m,\u001b[0m \u001b[0mtimeout_value\u001b[0m\u001b[0;34m=\u001b[0m\u001b[0mread_timeout\u001b[0m\u001b[0;34m)\u001b[0m\u001b[0;34m\u001b[0m\u001b[0;34m\u001b[0m\u001b[0m\n",
      "\u001b[0;32m~/.pyenv/versions/last-fm-to-spotify/lib/python3.6/site-packages/urllib3/packages/six.py\u001b[0m in \u001b[0;36mraise_from\u001b[0;34m(value, from_value)\u001b[0m\n",
      "\u001b[0;32m~/.pyenv/versions/last-fm-to-spotify/lib/python3.6/site-packages/urllib3/connectionpool.py\u001b[0m in \u001b[0;36m_make_request\u001b[0;34m(self, conn, method, url, timeout, chunked, **httplib_request_kw)\u001b[0m\n\u001b[1;32m    442\u001b[0m                 \u001b[0;31m# Python 3\u001b[0m\u001b[0;34m\u001b[0m\u001b[0;34m\u001b[0m\u001b[0;34m\u001b[0m\u001b[0m\n\u001b[1;32m    443\u001b[0m                 \u001b[0;32mtry\u001b[0m\u001b[0;34m:\u001b[0m\u001b[0;34m\u001b[0m\u001b[0;34m\u001b[0m\u001b[0m\n\u001b[0;32m--> 444\u001b[0;31m                     \u001b[0mhttplib_response\u001b[0m \u001b[0;34m=\u001b[0m \u001b[0mconn\u001b[0m\u001b[0;34m.\u001b[0m\u001b[0mgetresponse\u001b[0m\u001b[0;34m(\u001b[0m\u001b[0;34m)\u001b[0m\u001b[0;34m\u001b[0m\u001b[0;34m\u001b[0m\u001b[0m\n\u001b[0m\u001b[1;32m    445\u001b[0m                 \u001b[0;32mexcept\u001b[0m \u001b[0mBaseException\u001b[0m \u001b[0;32mas\u001b[0m \u001b[0me\u001b[0m\u001b[0;34m:\u001b[0m\u001b[0;34m\u001b[0m\u001b[0;34m\u001b[0m\u001b[0m\n\u001b[1;32m    446\u001b[0m                     \u001b[0;31m# Remove the TypeError from the exception chain in\u001b[0m\u001b[0;34m\u001b[0m\u001b[0;34m\u001b[0m\u001b[0;34m\u001b[0m\u001b[0m\n",
      "\u001b[0;32m~/.pyenv/versions/3.6.8/lib/python3.6/http/client.py\u001b[0m in \u001b[0;36mgetresponse\u001b[0;34m(self)\u001b[0m\n\u001b[1;32m   1329\u001b[0m         \u001b[0;32mtry\u001b[0m\u001b[0;34m:\u001b[0m\u001b[0;34m\u001b[0m\u001b[0;34m\u001b[0m\u001b[0m\n\u001b[1;32m   1330\u001b[0m             \u001b[0;32mtry\u001b[0m\u001b[0;34m:\u001b[0m\u001b[0;34m\u001b[0m\u001b[0;34m\u001b[0m\u001b[0m\n\u001b[0;32m-> 1331\u001b[0;31m                 \u001b[0mresponse\u001b[0m\u001b[0;34m.\u001b[0m\u001b[0mbegin\u001b[0m\u001b[0;34m(\u001b[0m\u001b[0;34m)\u001b[0m\u001b[0;34m\u001b[0m\u001b[0;34m\u001b[0m\u001b[0m\n\u001b[0m\u001b[1;32m   1332\u001b[0m             \u001b[0;32mexcept\u001b[0m \u001b[0mConnectionError\u001b[0m\u001b[0;34m:\u001b[0m\u001b[0;34m\u001b[0m\u001b[0;34m\u001b[0m\u001b[0m\n\u001b[1;32m   1333\u001b[0m                 \u001b[0mself\u001b[0m\u001b[0;34m.\u001b[0m\u001b[0mclose\u001b[0m\u001b[0;34m(\u001b[0m\u001b[0;34m)\u001b[0m\u001b[0;34m\u001b[0m\u001b[0;34m\u001b[0m\u001b[0m\n",
      "\u001b[0;32m~/.pyenv/versions/3.6.8/lib/python3.6/http/client.py\u001b[0m in \u001b[0;36mbegin\u001b[0;34m(self)\u001b[0m\n\u001b[1;32m    295\u001b[0m         \u001b[0;31m# read until we get a non-100 response\u001b[0m\u001b[0;34m\u001b[0m\u001b[0;34m\u001b[0m\u001b[0;34m\u001b[0m\u001b[0m\n\u001b[1;32m    296\u001b[0m         \u001b[0;32mwhile\u001b[0m \u001b[0;32mTrue\u001b[0m\u001b[0;34m:\u001b[0m\u001b[0;34m\u001b[0m\u001b[0;34m\u001b[0m\u001b[0m\n\u001b[0;32m--> 297\u001b[0;31m             \u001b[0mversion\u001b[0m\u001b[0;34m,\u001b[0m \u001b[0mstatus\u001b[0m\u001b[0;34m,\u001b[0m \u001b[0mreason\u001b[0m \u001b[0;34m=\u001b[0m \u001b[0mself\u001b[0m\u001b[0;34m.\u001b[0m\u001b[0m_read_status\u001b[0m\u001b[0;34m(\u001b[0m\u001b[0;34m)\u001b[0m\u001b[0;34m\u001b[0m\u001b[0;34m\u001b[0m\u001b[0m\n\u001b[0m\u001b[1;32m    298\u001b[0m             \u001b[0;32mif\u001b[0m \u001b[0mstatus\u001b[0m \u001b[0;34m!=\u001b[0m \u001b[0mCONTINUE\u001b[0m\u001b[0;34m:\u001b[0m\u001b[0;34m\u001b[0m\u001b[0;34m\u001b[0m\u001b[0m\n\u001b[1;32m    299\u001b[0m                 \u001b[0;32mbreak\u001b[0m\u001b[0;34m\u001b[0m\u001b[0;34m\u001b[0m\u001b[0m\n",
      "\u001b[0;32m~/.pyenv/versions/3.6.8/lib/python3.6/http/client.py\u001b[0m in \u001b[0;36m_read_status\u001b[0;34m(self)\u001b[0m\n\u001b[1;32m    256\u001b[0m \u001b[0;34m\u001b[0m\u001b[0m\n\u001b[1;32m    257\u001b[0m     \u001b[0;32mdef\u001b[0m \u001b[0m_read_status\u001b[0m\u001b[0;34m(\u001b[0m\u001b[0mself\u001b[0m\u001b[0;34m)\u001b[0m\u001b[0;34m:\u001b[0m\u001b[0;34m\u001b[0m\u001b[0;34m\u001b[0m\u001b[0m\n\u001b[0;32m--> 258\u001b[0;31m         \u001b[0mline\u001b[0m \u001b[0;34m=\u001b[0m \u001b[0mstr\u001b[0m\u001b[0;34m(\u001b[0m\u001b[0mself\u001b[0m\u001b[0;34m.\u001b[0m\u001b[0mfp\u001b[0m\u001b[0;34m.\u001b[0m\u001b[0mreadline\u001b[0m\u001b[0;34m(\u001b[0m\u001b[0m_MAXLINE\u001b[0m \u001b[0;34m+\u001b[0m \u001b[0;36m1\u001b[0m\u001b[0;34m)\u001b[0m\u001b[0;34m,\u001b[0m \u001b[0;34m\"iso-8859-1\"\u001b[0m\u001b[0;34m)\u001b[0m\u001b[0;34m\u001b[0m\u001b[0;34m\u001b[0m\u001b[0m\n\u001b[0m\u001b[1;32m    259\u001b[0m         \u001b[0;32mif\u001b[0m \u001b[0mlen\u001b[0m\u001b[0;34m(\u001b[0m\u001b[0mline\u001b[0m\u001b[0;34m)\u001b[0m \u001b[0;34m>\u001b[0m \u001b[0m_MAXLINE\u001b[0m\u001b[0;34m:\u001b[0m\u001b[0;34m\u001b[0m\u001b[0;34m\u001b[0m\u001b[0m\n\u001b[1;32m    260\u001b[0m             \u001b[0;32mraise\u001b[0m \u001b[0mLineTooLong\u001b[0m\u001b[0;34m(\u001b[0m\u001b[0;34m\"status line\"\u001b[0m\u001b[0;34m)\u001b[0m\u001b[0;34m\u001b[0m\u001b[0;34m\u001b[0m\u001b[0m\n",
      "\u001b[0;32m~/.pyenv/versions/3.6.8/lib/python3.6/socket.py\u001b[0m in \u001b[0;36mreadinto\u001b[0;34m(self, b)\u001b[0m\n\u001b[1;32m    584\u001b[0m         \u001b[0;32mwhile\u001b[0m \u001b[0;32mTrue\u001b[0m\u001b[0;34m:\u001b[0m\u001b[0;34m\u001b[0m\u001b[0;34m\u001b[0m\u001b[0m\n\u001b[1;32m    585\u001b[0m             \u001b[0;32mtry\u001b[0m\u001b[0;34m:\u001b[0m\u001b[0;34m\u001b[0m\u001b[0;34m\u001b[0m\u001b[0m\n\u001b[0;32m--> 586\u001b[0;31m                 \u001b[0;32mreturn\u001b[0m \u001b[0mself\u001b[0m\u001b[0;34m.\u001b[0m\u001b[0m_sock\u001b[0m\u001b[0;34m.\u001b[0m\u001b[0mrecv_into\u001b[0m\u001b[0;34m(\u001b[0m\u001b[0mb\u001b[0m\u001b[0;34m)\u001b[0m\u001b[0;34m\u001b[0m\u001b[0;34m\u001b[0m\u001b[0m\n\u001b[0m\u001b[1;32m    587\u001b[0m             \u001b[0;32mexcept\u001b[0m \u001b[0mtimeout\u001b[0m\u001b[0;34m:\u001b[0m\u001b[0;34m\u001b[0m\u001b[0;34m\u001b[0m\u001b[0m\n\u001b[1;32m    588\u001b[0m                 \u001b[0mself\u001b[0m\u001b[0;34m.\u001b[0m\u001b[0m_timeout_occurred\u001b[0m \u001b[0;34m=\u001b[0m \u001b[0;32mTrue\u001b[0m\u001b[0;34m\u001b[0m\u001b[0;34m\u001b[0m\u001b[0m\n",
      "\u001b[0;31mKeyboardInterrupt\u001b[0m: "
     ]
    }
   ],
   "source": [
    "driver.close()"
   ]
  }
 ],
 "metadata": {
  "kernelspec": {
   "display_name": "Python 3.6.8 64-bit ('last-fm-to-spotify')",
   "language": "python",
   "name": "python3"
  },
  "language_info": {
   "codemirror_mode": {
    "name": "ipython",
    "version": 3
   },
   "file_extension": ".py",
   "mimetype": "text/x-python",
   "name": "python",
   "nbconvert_exporter": "python",
   "pygments_lexer": "ipython3",
   "version": "3.6.8"
  },
  "orig_nbformat": 4,
  "vscode": {
   "interpreter": {
    "hash": "9c373eae70841d309e1215553926bbbcd65e822b18ce7d27c606f76145c7e9d5"
   }
  }
 },
 "nbformat": 4,
 "nbformat_minor": 2
}
